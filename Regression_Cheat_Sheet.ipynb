{
 "cells": [
  {
   "cell_type": "markdown",
   "id": "6e5d89cc-c75e-4532-a2f3-b8322d3eb4c9",
   "metadata": {
    "tags": []
   },
   "source": [
    "# Linear Regression in Python: Introductory Statistics"
   ]
  },
  {
   "cell_type": "markdown",
   "id": "7de62b95-29f1-49c1-8be4-e024893a28bf",
   "metadata": {},
   "source": [
    "There's one frequent question I hear often when people inquire about the Data Science field. Do I need to know math? And to many people's chagrin, the answer is yes. The good thing to know is that you DONT need to be a math wizz to understand the fundemental math concepts for Data Science! There just needs to be a willingness to understand the theory behind the things you create. Statistics in particular is a necessary curriculum you'll need for Machine Learning and the perfect place to start is with Linear Regression. This guide will walk through the basics of using Linear Regression for Machine Learning and will hopefully act as a reference for me as well."
   ]
  },
  {
   "cell_type": "markdown",
   "id": "d6369ea5-a5f4-4f9e-b92c-24171f27f98a",
   "metadata": {
    "tags": []
   },
   "source": [
    "### Table of Contents\n",
    "- 1. Basics of Linear Regression\n",
    "- 2. Hypothesis Testing\n",
    "- 3. Using scikit - learn implementations "
   ]
  },
  {
   "cell_type": "markdown",
   "id": "531f8899-8a7b-446f-92d1-aaa1c5288e28",
   "metadata": {
    "tags": []
   },
   "source": [
    "## What exactly is Linear Regression?"
   ]
  },
  {
   "cell_type": "markdown",
   "id": "982ea0a0-59cd-4cbd-9285-b23809bde29e",
   "metadata": {},
   "source": [
    "Linear Regression is a type of statistical analysis that is used for predicting the relationship between two variables. It can be used to forecast sales, prices, and can even used to gain insights about customer behavior. The main goal of a linear regression model is to find a relationship between one more more features(independent variable) and a target variable (dependent variable). You can bucket most linear regression analyses into two types:\n",
    "- 1. **Univariate Linear Regression:** Only one feature is used in your model\n",
    "- 2. **Multivariate Linear Regression:** More than one feature is used in your model "
   ]
  },
  {
   "cell_type": "markdown",
   "id": "5892593e-c96e-47b0-a691-e06e81a121b2",
   "metadata": {},
   "source": [
    "## Assumptions of a Linear Equation and how to solve for them"
   ]
  },
  {
   "cell_type": "markdown",
   "id": "fb03cf56-dabf-4bef-a615-b3f8a710b2f4",
   "metadata": {
    "tags": []
   },
   "source": [
    "### Structure of Linear Regression"
   ]
  },
  {
   "cell_type": "markdown",
   "id": "cb230444-eca5-4c82-b36e-9943627d77e1",
   "metadata": {},
   "source": [
    "The linear regression model can be summarized by the following equation:"
   ]
  },
  {
   "cell_type": "markdown",
   "id": "6105da41-2099-4ab4-b0af-25cba2923832",
   "metadata": {},
   "source": [
    "![linear_equation.png](linear_equation.png)"
   ]
  },
  {
   "cell_type": "markdown",
   "id": "d46204b2-882d-4cc7-ba7f-911d1a34bee1",
   "metadata": {},
   "source": [
    "or"
   ]
  },
  {
   "attachments": {
    "e852bddd-ebc6-4b0d-a142-c40854db0fec.webp": {
     "image/webp": "[encoded data removed]"
    }
   },
   "cell_type": "markdown",
   "id": "52450dd5-45d4-4711-aebd-b47be8a7d5cb",
   "metadata": {},
   "source": [
    "![h(x).webp](attachment:e852bddd-ebc6-4b0d-a142-c40854db0fec.webp)"
   ]
  },
  {
   "cell_type": "markdown",
   "id": "a0398c01-8fb6-48f5-a039-0a628640c872",
   "metadata": {},
   "source": [
    "- Y is the predicted value. \n",
    "- This is equation is also known as the hypothesis function h(x). \n",
    "- θ1.......,θn are our model parameters or the coefficients of the features of our model \n",
    "- θ-zero is the bias term and is also the value of the equation if all of our other features have a coefficient of 0. This is essentially the baseline of our model"
   ]
  },
  {
   "cell_type": "markdown",
   "id": "56a5b1b9-05c5-4815-ad3e-bee6b5976dda",
   "metadata": {},
   "source": [
    "This equation would also be our theoretical equation for our *line of best fit* or our *regression line*. If we plotted our feautures or independent variables individually against our target variable we would get a scatter plot. Lets create one to get a better understanding of what I mean. We will create some data for a dependent variable y and one independent variable x."
   ]
  },
  {
   "cell_type": "code",
   "execution_count": 1,
   "id": "03c9d8bf-76a7-4b37-b31c-6486fd9aa1e7",
   "metadata": {},
   "outputs": [
    {
     "data": {
      "image/png": "[encoded data removed]",
      "text/plain": [
       "<Figure size 640x480 with 1 Axes>"
      ]
     },
     "metadata": {},
     "output_type": "display_data"
    }
   ],
   "source": [
    "import numpy as np\n",
    "import matplotlib.pyplot as plt\n",
    "\n",
    "# generate random data-set\n",
    "np.random.seed(0)\n",
    "x = np.random.rand(100, 1)\n",
    "y = 2 + 3 * x + np.random.rand(100, 1)\n",
    "\n",
    "# plot\n",
    "plt.scatter(x,y,s=10)\n",
    "plt.xlabel('x')\n",
    "plt.ylabel('y')\n",
    "plt.show()"
   ]
  },
  {
   "cell_type": "markdown",
   "id": "f6293ce0-7297-4e30-b529-068a2fad4a50",
   "metadata": {},
   "source": [
    "Our line of best fit's job *(which represents our equation)* is to try and get a sense of the best or *optimal* values that would help us hit most of our observations on the scatterplot. If our line of best fit does a good job, we should be able to take it and use it to predict our Y variables fairly accurately for similar data sets. "
   ]
  },
  {
   "cell_type": "markdown",
   "id": "d51dca02-c910-4520-b0a0-5de1a85f66e9",
   "metadata": {
    "tags": []
   },
   "source": [
    "### How do we determine our line of best fit?"
   ]
  },
  {
   "cell_type": "markdown",
   "id": "2c95d128-f967-440e-9fad-eab42fbfa6db",
   "metadata": {},
   "source": [
    "As mentioned before, our line of best fits job is to hit as many points as it can on our scatter plot. If it does its job well, the distance between our line and each of our data points would be very small. The distance between each of our predicted values(represented by our line of best fit) and the actual data observations is known as an error term or a residual. Lets take a look at a visual representation of this."
   ]
  },
  {
   "attachments": {
    "264bfb77-90a4-4c53-baea-1aebc0940255.webp": {
     "image/webp": "[encoded data removed]"
    }
   },
   "cell_type": "markdown",
   "id": "839866bf-920a-4982-a8af-99963d57706e",
   "metadata": {},
   "source": [
    "![residuals.webp](attachment:264bfb77-90a4-4c53-baea-1aebc0940255.webp)"
   ]
  },
  {
   "cell_type": "markdown",
   "id": "ddcfd67a-a659-481b-9439-6183afa60a38",
   "metadata": {},
   "source": [
    "The sum of all of our error terms is measured by something called the *cost function* which is defined as the sum of the squares of all of our residuals. This is how our cost function looks like."
   ]
  },
  {
   "attachments": {
    "0e572f2b-c86c-4f22-a42a-3d792f403f3e.webp": {
     "image/webp": "[encoded data removed]"
    }
   },
   "cell_type": "markdown",
   "id": "6cdc0684-9374-4629-8cf9-3ad21c2deb50",
   "metadata": {},
   "source": [
    "![cost_function.webp](attachment:0e572f2b-c86c-4f22-a42a-3d792f403f3e.webp)"
   ]
  },
  {
   "cell_type": "markdown",
   "id": "701ffff0-b057-4feb-92c5-423096f6547d",
   "metadata": {},
   "source": [
    "*h(x)* represents the hypothesis function we mentioned before, and it is essentially the value we got for Y with our equation - our predicted value"
   ]
  },
  {
   "attachments": {
    "98fd2259-2be3-4237-8c5e-233810d2bf13.webp": {
     "image/webp": "[encoded data removed]"
    }
   },
   "cell_type": "markdown",
   "id": "d524a940-9199-477e-b00c-1d10e20de07c",
   "metadata": {},
   "source": [
    "![h(x).webp](attachment:98fd2259-2be3-4237-8c5e-233810d2bf13.webp)"
   ]
  },
  {
   "cell_type": "markdown",
   "id": "7b7aaf4d-2526-4c48-9f29-bc36c042eb2c",
   "metadata": {},
   "source": [
    "*m* represents the number of training sets we have"
   ]
  },
  {
   "cell_type": "markdown",
   "id": "a722bf07-fc4a-479d-a1ae-a86be9718f6f",
   "metadata": {},
   "source": [
    "Our objective in all of this is find the best or *optimal* parameters (represented by θ) for each of our features (represented by x) to minimize the cost function or the loss function. We could do this using the Normal Equation or with something called [**Gradient Descent**](https://builtin.com/data-science/gradient-descent)."
   ]
  },
  {
   "cell_type": "markdown",
   "id": "6e86bca2-be05-4f9f-94f9-1cd6852ff556",
   "metadata": {
    "tags": []
   },
   "source": [
    "### Gradient Descent"
   ]
  },
  {
   "cell_type": "markdown",
   "id": "a1314c0f-e689-4d1e-83df-6d33aa9ea361",
   "metadata": {},
   "source": [
    "Gradient descent is an algorithm used in many machine learning algorithms. What it does is that it tweaks and changes our parameters of our model to minimize the cost function discussed before. These are the steps of gradient descent:\n",
    "1. First you plug in some random values for your model parameters to start off with. This is known as random initialization, because we need to start off somewhere"
   ]
  },
  {
   "cell_type": "markdown",
   "id": "eee7f6ab-b1ea-490e-b26f-1343a5b44ea3",
   "metadata": {},
   "source": [
    "2. Now you have to measure how the cost function changes with each change in the parameter to see if its increasing, decreasing, ect. This can be measured by computing something called the partial derivative of the cost function which essentially captures how our parameters are changing. Our cost function would have to be convex and would have to have a global mimima, representing 0 meaning that is our optimal parameter. What this is essentially doing is capturing the slope as our parameter is travelling down to the global mimima."
   ]
  },
  {
   "attachments": {
    "5a8ead35-474e-4ec8-a619-4d9756845f7f.webp": {
     "image/webp": "[encoded data removed]"
    }
   },
   "cell_type": "markdown",
   "id": "cb9d7212-5039-428d-95bb-543e773a8ea8",
   "metadata": {},
   "source": [
    "![derivativecostfunction.webp](attachment:5a8ead35-474e-4ec8-a619-4d9756845f7f.webp)"
   ]
  },
  {
   "cell_type": "markdown",
   "id": "ce2da47b-c6c2-4e54-b05c-8bbd0b564daa",
   "metadata": {},
   "source": [
    "3. Now after getting the derivative, you now have to update the parameters and change them simultaneously to see how it impacts our cost function. Our derivative is multiplied by something called the *learning rate* which represented by a. This learning rate will determine how fast our how slow our parameters move towards our desired local optima. We never want to have a learning rate that is too big or too small. If our learning rate is small it will take forever for us to get to our optimal parameter. But even worse, if it is too big we could completely overshoot and whizz past our desired parameters. Note that if we have more than 1 parameter, we would have to plug in the changes simultaneously to see how each change for every coefficient on our feature is impacting the cost function. "
   ]
  },
  {
   "attachments": {
    "499ed091-ebf6-43d3-a901-ef01d8b0a1b6.webp": {
     "image/webp": "[encoded data removed]"
    }
   },
   "cell_type": "markdown",
   "id": "05ae4afa-20a9-47ad-b254-970fb9421ce0",
   "metadata": {},
   "source": [
    "![learning_rate.webp](attachment:499ed091-ebf6-43d3-a901-ef01d8b0a1b6.webp)"
   ]
  },
  {
   "attachments": {
    "afc3e393-b884-4035-9751-3f36fc48c9d5.webp": {
     "image/webp": "[encoded data removed]"
    }
   },
   "cell_type": "markdown",
   "id": "b9418114-0d2c-47dd-b1a4-2b5dbf8feab4",
   "metadata": {},
   "source": [
    "![learningrate2.webp](attachment:afc3e393-b884-4035-9751-3f36fc48c9d5.webp)"
   ]
  },
  {
   "cell_type": "markdown",
   "id": "dd94eb2f-0cf0-41cd-bcec-0d1a1bda71ca",
   "metadata": {},
   "source": [
    "I like to think of Gradient Descent from the perspective of a hiker embarking on a journey to find a natural spring to quench their thirst. They start of at ground 0, unsure of what lies in wait for them, but step by step put one foot in front of the other to traverse the valley to save themselves from dying of dehydration. They can't run or walk too fast, else they might end up rolling down the hill to quickly and might shoot right past the goldmine they're looking for, but they also cant walk too slow or they'll be dead before they get there. They have to take slow measured steps and try their best to track their journey so they can find their way back once they find what they're looking for. "
   ]
  },
  {
   "cell_type": "markdown",
   "id": "2a03fcff-46ea-4699-aec0-fa0156fdd329",
   "metadata": {},
   "source": [
    "*Maybe Include an Example of Gradient Descent HERE so we can actually see what it looks like*"
   ]
  },
  {
   "cell_type": "code",
   "execution_count": 7,
   "id": "f8e7ada7-2f28-4a80-a58d-7e4037a2cd9e",
   "metadata": {},
   "outputs": [],
   "source": [
    "# Implementing Gradient Descent from Scratch \n",
    "# y_hat = wx + b\n",
    "# loss = (y - y_hat)**2/N\n",
    "from tkinter import W\n",
    "import numpy as np\n",
    "\n",
    "#initialize parameters as 0, parameters will be w and b\n",
    "np.random.seed(0)\n",
    "x = np.random.rand(100, 1)\n",
    "y = 2 + 3 * x + np.random.rand(100, 1)\n",
    "#parameters\n",
    "w = 0.0\n",
    "b = 0.0\n",
    "\n",
    "#Hyperparameter\n",
    "learning_rate = 0.0\n",
    "\n",
    "#Create gradient descent function \n",
    "def g_descent(x,y,w,b, learning_rate):\n",
    "    dldw = 0\n",
    "    dldb = 0\n",
    "    \n",
    "# Iteratively make updates"
   ]
  },
  {
   "cell_type": "code",
   "execution_count": null,
   "id": "f3c8b37e-7227-4fa4-a915-7ba892d440a9",
   "metadata": {},
   "outputs": [],
   "source": []
  }
 ],
 "metadata": {
  "kernelspec": {
   "display_name": "Python 3 (ipykernel)",
   "language": "python",
   "name": "python3"
  },
  "language_info": {
   "codemirror_mode": {
    "name": "ipython",
    "version": 3
   },
   "file_extension": ".py",
   "mimetype": "text/x-python",
   "name": "python",
   "nbconvert_exporter": "python",
   "pygments_lexer": "ipython3",
   "version": "3.9.13"
  }
 },
 "nbformat": 4,
 "nbformat_minor": 5
}
